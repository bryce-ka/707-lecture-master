{
 "cells": [
  {
   "cell_type": "markdown",
   "id": "0fc1f3b7-935a-4010-a0aa-e8e4bf61acf9",
   "metadata": {},
   "source": [
    "# To do\n",
    "\n",
    "2. write a function to get the roster of a given team in a given season \n",
    "   - 2a Write a function to get individual team pers and games palyers of team TOT \n",
    "\n",
    "3. partition data for predictions:\n",
    "    - what are we considering? we can make a model that has an input for:\n",
    "        - x number of historical head to head matchups  \n",
    "        - team roster pers \n",
    "        - injury data \n",
    "        - regular season info \n",
    "    \n",
    "        \n",
    "4. Decide test train partitions:\n",
    "    - previous 2 seasons for next season based on literature \n",
    "    \n",
    "4. test model architerctures \n",
    "\n",
    "5. Decide on best model architecture \n",
    "\n",
    "5. test Hyerparameters \n",
    "\n",
    "6. Report \n",
    "\n",
    "<!-- further work  -->\n",
    "<!-- per predictor based on college stats found on each players basketball reference  -->"
   ]
  },
  {
   "cell_type": "code",
   "execution_count": 95,
   "id": "75de1862-e83c-4453-9238-022cd0c30d02",
   "metadata": {
    "tags": []
   },
   "outputs": [
    {
     "data": {
      "text/plain": [
       "['data merging.ipynb',\n",
       " '[2019, 2020].parquet.gzip',\n",
       " 'Luca Vildoza Stats, Height, Weight, Position, Draft Status and more _ Basketball-Reference.com_files',\n",
       " 'Untitled1.ipynb',\n",
       " '.DS_Store',\n",
       " 'scrape_data_15-16.py',\n",
       " 'PER_table_error.parquet.gzip',\n",
       " 'IST_NBA_data_gen.ipynb',\n",
       " 'year_team_link.csv',\n",
       " 'Untitled.ipynb',\n",
       " '[2019, 2020]_error.parquet.gzip',\n",
       " '[2015, 2016]_game_stats_error.parquet.gzip',\n",
       " 'players_v_vildolu01.csv',\n",
       " '[2021, 2022].parquet.gzip',\n",
       " 'season_rosters.csv',\n",
       " 'final_6.parquet.gzip',\n",
       " '[2017, 2018].parquet.gzip',\n",
       " 'player_info_per.parquet.gzip',\n",
       " 'df.pickle',\n",
       " 'PER_table.parquet.gzip',\n",
       " 'seasons_per_s.csv',\n",
       " 'yearly_rosters.csv',\n",
       " '[2015, 2016]_game_stats.parquet.gzip',\n",
       " 'missing_players.parquet.gzip',\n",
       " '.ipynb_checkpoints',\n",
       " '[2019, 2020]_game_stats.parquet.gzip',\n",
       " 'scrape_data.py',\n",
       " 'PER_table_error.parquet_files',\n",
       " '[2021, 2022]_error.parquet.gzip',\n",
       " '[2017, 2018]_game_stats.parquet.gzip',\n",
       " '[2015, 2016].parquet.gzip',\n",
       " '[2021, 2022]_game_stats.parquet.gzip']"
      ]
     },
     "execution_count": 95,
     "metadata": {},
     "output_type": "execute_result"
    }
   ],
   "source": [
    "ls()"
   ]
  },
  {
   "cell_type": "code",
   "execution_count": 3,
   "id": "7e8f8d1f-3bb0-4830-8a4d-48d9ddbb62a0",
   "metadata": {
    "tags": []
   },
   "outputs": [],
   "source": [
    "import pandas as pd \n",
    "import numpy as np \n",
    "from os import listdir as ls"
   ]
  },
  {
   "cell_type": "code",
   "execution_count": 88,
   "id": "53794254-8148-4a9d-8e65-022bf1538848",
   "metadata": {
    "tags": []
   },
   "outputs": [],
   "source": [
    "v1 = pd.read_parquet('[2015, 2016]_game_stats.parquet.gzip')\n",
    "v2 = pd.read_parquet('[2017, 2018]_game_stats.parquet.gzip')\n",
    "v3 = pd.read_parquet('[2019, 2020]_game_stats.parquet.gzip')\n",
    "v4 = pd.read_parquet('[2021, 2022]_game_stats.parquet.gzip')\n",
    "\n",
    "season_reg = pd.concat([v1, v2, v3, v4], axis = 0)"
   ]
  },
  {
   "cell_type": "markdown",
   "id": "a46b2a9c-f461-47d2-b20a-d86aaf22ccf3",
   "metadata": {
    "tags": []
   },
   "source": [
    "# Player Pers"
   ]
  },
  {
   "cell_type": "code",
   "execution_count": 89,
   "id": "eda1e7c8-7fc8-492a-a194-21b3ebe7f7dc",
   "metadata": {
    "tags": []
   },
   "outputs": [
    {
     "name": "stdout",
     "output_type": "stream",
     "text": [
      "['GSW' 'PHO' 'DAL' 'TOT' 'SAC' 'CLE' 'LAL' 'ATL' 'CHI' 'NYK' 'MEM' 'IND'\n",
      " 'MIA' 'BOS' 'SAS' 'PHI' 'MIN' 'LAC' 'ORL' 'DET' 'BRK' 'MIL' 'NOP' 'CHO'\n",
      " 'HOU' 'WAS' 'DEN' 'UTA' 'TOR' 'POR' 'OKC'] 31\n"
     ]
    }
   ],
   "source": [
    "players_teams=pd.read_csv('seasons_per_s.csv')\n",
    "print(players_teams['team_id'].unique(), len(players_teams['team_id'].unique()))\n",
    "# what is TOT"
   ]
  },
  {
   "cell_type": "code",
   "execution_count": 90,
   "id": "2e7fa6d7-57a1-4e7e-a5c1-01ce646474da",
   "metadata": {
    "tags": []
   },
   "outputs": [
    {
     "data": {
      "text/html": [
       "<div>\n",
       "<style scoped>\n",
       "    .dataframe tbody tr th:only-of-type {\n",
       "        vertical-align: middle;\n",
       "    }\n",
       "\n",
       "    .dataframe tbody tr th {\n",
       "        vertical-align: top;\n",
       "    }\n",
       "\n",
       "    .dataframe thead th {\n",
       "        text-align: right;\n",
       "    }\n",
       "</style>\n",
       "<table border=\"1\" class=\"dataframe\">\n",
       "  <thead>\n",
       "    <tr style=\"text-align: right;\">\n",
       "      <th></th>\n",
       "      <th>season</th>\n",
       "      <th>team_id</th>\n",
       "      <th>player_dir</th>\n",
       "      <th>per</th>\n",
       "    </tr>\n",
       "  </thead>\n",
       "  <tbody>\n",
       "    <tr>\n",
       "      <th>7</th>\n",
       "      <td>2018-19</td>\n",
       "      <td>TOT</td>\n",
       "      <td>/players/b/barneha02.html</td>\n",
       "      <td>12.8</td>\n",
       "    </tr>\n",
       "    <tr>\n",
       "      <th>15</th>\n",
       "      <td>2016-17</td>\n",
       "      <td>TOT</td>\n",
       "      <td>/players/b/bogutan01.html</td>\n",
       "      <td>9.3</td>\n",
       "    </tr>\n",
       "    <tr>\n",
       "      <th>28</th>\n",
       "      <td>2015-16</td>\n",
       "      <td>TOT</td>\n",
       "      <td>/players/h/holidju01.html</td>\n",
       "      <td>9.4</td>\n",
       "    </tr>\n",
       "    <tr>\n",
       "      <th>33</th>\n",
       "      <td>2018-19</td>\n",
       "      <td>TOT</td>\n",
       "      <td>/players/h/holidju01.html</td>\n",
       "      <td>10.0</td>\n",
       "    </tr>\n",
       "    <tr>\n",
       "      <th>38</th>\n",
       "      <td>2021-22</td>\n",
       "      <td>TOT</td>\n",
       "      <td>/players/h/holidju01.html</td>\n",
       "      <td>9.5</td>\n",
       "    </tr>\n",
       "    <tr>\n",
       "      <th>...</th>\n",
       "      <td>...</td>\n",
       "      <td>...</td>\n",
       "      <td>...</td>\n",
       "      <td>...</td>\n",
       "    </tr>\n",
       "    <tr>\n",
       "      <th>5036</th>\n",
       "      <td>2021-22</td>\n",
       "      <td>TOT</td>\n",
       "      <td>/players/k/keybr01.html</td>\n",
       "      <td>13.7</td>\n",
       "    </tr>\n",
       "    <tr>\n",
       "      <th>5054</th>\n",
       "      <td>2021-22</td>\n",
       "      <td>TOT</td>\n",
       "      <td>/players/b/brownch05.html</td>\n",
       "      <td>6.4</td>\n",
       "    </tr>\n",
       "    <tr>\n",
       "      <th>5058</th>\n",
       "      <td>2021-22</td>\n",
       "      <td>TOT</td>\n",
       "      <td>/players/h/hillma01.html</td>\n",
       "      <td>12.7</td>\n",
       "    </tr>\n",
       "    <tr>\n",
       "      <th>5077</th>\n",
       "      <td>2021-22</td>\n",
       "      <td>TOT</td>\n",
       "      <td>/players/j/johnske07.html</td>\n",
       "      <td>8.7</td>\n",
       "    </tr>\n",
       "    <tr>\n",
       "      <th>5085</th>\n",
       "      <td>2021-22</td>\n",
       "      <td>TOT</td>\n",
       "      <td>/players/m/mccluma01.html</td>\n",
       "      <td>5.2</td>\n",
       "    </tr>\n",
       "  </tbody>\n",
       "</table>\n",
       "<p>556 rows × 4 columns</p>\n",
       "</div>"
      ],
      "text/plain": [
       "       season team_id                 player_dir   per\n",
       "7     2018-19     TOT  /players/b/barneha02.html  12.8\n",
       "15    2016-17     TOT  /players/b/bogutan01.html   9.3\n",
       "28    2015-16     TOT  /players/h/holidju01.html   9.4\n",
       "33    2018-19     TOT  /players/h/holidju01.html  10.0\n",
       "38    2021-22     TOT  /players/h/holidju01.html   9.5\n",
       "...       ...     ...                        ...   ...\n",
       "5036  2021-22     TOT    /players/k/keybr01.html  13.7\n",
       "5054  2021-22     TOT  /players/b/brownch05.html   6.4\n",
       "5058  2021-22     TOT   /players/h/hillma01.html  12.7\n",
       "5077  2021-22     TOT  /players/j/johnske07.html   8.7\n",
       "5085  2021-22     TOT  /players/m/mccluma01.html   5.2\n",
       "\n",
       "[556 rows x 4 columns]"
      ]
     },
     "execution_count": 90,
     "metadata": {},
     "output_type": "execute_result"
    }
   ],
   "source": [
    "# TOT means a players played on multiple teams \n",
    "players_teams[players_teams['team_id']=='TOT']"
   ]
  },
  {
   "cell_type": "code",
   "execution_count": 91,
   "id": "4c5a031f-7e85-4fae-b655-3d8671b305dc",
   "metadata": {
    "tags": []
   },
   "outputs": [
    {
     "data": {
      "text/html": [
       "<div>\n",
       "<style scoped>\n",
       "    .dataframe tbody tr th:only-of-type {\n",
       "        vertical-align: middle;\n",
       "    }\n",
       "\n",
       "    .dataframe tbody tr th {\n",
       "        vertical-align: top;\n",
       "    }\n",
       "\n",
       "    .dataframe thead th {\n",
       "        text-align: right;\n",
       "    }\n",
       "</style>\n",
       "<table border=\"1\" class=\"dataframe\">\n",
       "  <thead>\n",
       "    <tr style=\"text-align: right;\">\n",
       "      <th></th>\n",
       "      <th>season</th>\n",
       "      <th>team_id</th>\n",
       "      <th>player_dir</th>\n",
       "      <th>per</th>\n",
       "    </tr>\n",
       "  </thead>\n",
       "  <tbody>\n",
       "    <tr>\n",
       "      <th>7</th>\n",
       "      <td>2018-19</td>\n",
       "      <td>TOT</td>\n",
       "      <td>/players/b/barneha02.html</td>\n",
       "      <td>12.8</td>\n",
       "    </tr>\n",
       "    <tr>\n",
       "      <th>8</th>\n",
       "      <td>2018-19</td>\n",
       "      <td>DAL</td>\n",
       "      <td>/players/b/barneha02.html</td>\n",
       "      <td>13.1</td>\n",
       "    </tr>\n",
       "    <tr>\n",
       "      <th>9</th>\n",
       "      <td>2018-19</td>\n",
       "      <td>SAC</td>\n",
       "      <td>/players/b/barneha02.html</td>\n",
       "      <td>12.3</td>\n",
       "    </tr>\n",
       "  </tbody>\n",
       "</table>\n",
       "</div>"
      ],
      "text/plain": [
       "    season team_id                 player_dir   per\n",
       "7  2018-19     TOT  /players/b/barneha02.html  12.8\n",
       "8  2018-19     DAL  /players/b/barneha02.html  13.1\n",
       "9  2018-19     SAC  /players/b/barneha02.html  12.3"
      ]
     },
     "execution_count": 91,
     "metadata": {},
     "output_type": "execute_result"
    }
   ],
   "source": [
    "barneha02 = players_teams[players_teams['player_dir']=='/players/b/barneha02.html'] \n",
    "barneha02[barneha02['season']=='2018-19'] "
   ]
  },
  {
   "cell_type": "code",
   "execution_count": 93,
   "id": "6709c27b-d2b6-4223-8b9f-b800c2a475c1",
   "metadata": {
    "tags": []
   },
   "outputs": [
    {
     "data": {
      "text/html": [
       "<div>\n",
       "<style scoped>\n",
       "    .dataframe tbody tr th:only-of-type {\n",
       "        vertical-align: middle;\n",
       "    }\n",
       "\n",
       "    .dataframe tbody tr th {\n",
       "        vertical-align: top;\n",
       "    }\n",
       "\n",
       "    .dataframe thead th {\n",
       "        text-align: right;\n",
       "    }\n",
       "</style>\n",
       "<table border=\"1\" class=\"dataframe\">\n",
       "  <thead>\n",
       "    <tr style=\"text-align: right;\">\n",
       "      <th></th>\n",
       "      <th>season</th>\n",
       "      <th>team_id</th>\n",
       "      <th>player_dir</th>\n",
       "      <th>per</th>\n",
       "    </tr>\n",
       "  </thead>\n",
       "  <tbody>\n",
       "    <tr>\n",
       "      <th>7</th>\n",
       "      <td>2018-19</td>\n",
       "      <td>TOT</td>\n",
       "      <td>/players/b/barneha02.html</td>\n",
       "      <td>12.8</td>\n",
       "    </tr>\n",
       "    <tr>\n",
       "      <th>15</th>\n",
       "      <td>2016-17</td>\n",
       "      <td>TOT</td>\n",
       "      <td>/players/b/bogutan01.html</td>\n",
       "      <td>9.3</td>\n",
       "    </tr>\n",
       "    <tr>\n",
       "      <th>28</th>\n",
       "      <td>2015-16</td>\n",
       "      <td>TOT</td>\n",
       "      <td>/players/h/holidju01.html</td>\n",
       "      <td>9.4</td>\n",
       "    </tr>\n",
       "    <tr>\n",
       "      <th>33</th>\n",
       "      <td>2018-19</td>\n",
       "      <td>TOT</td>\n",
       "      <td>/players/h/holidju01.html</td>\n",
       "      <td>10.0</td>\n",
       "    </tr>\n",
       "    <tr>\n",
       "      <th>38</th>\n",
       "      <td>2021-22</td>\n",
       "      <td>TOT</td>\n",
       "      <td>/players/h/holidju01.html</td>\n",
       "      <td>9.5</td>\n",
       "    </tr>\n",
       "    <tr>\n",
       "      <th>...</th>\n",
       "      <td>...</td>\n",
       "      <td>...</td>\n",
       "      <td>...</td>\n",
       "      <td>...</td>\n",
       "    </tr>\n",
       "    <tr>\n",
       "      <th>5036</th>\n",
       "      <td>2021-22</td>\n",
       "      <td>TOT</td>\n",
       "      <td>/players/k/keybr01.html</td>\n",
       "      <td>13.7</td>\n",
       "    </tr>\n",
       "    <tr>\n",
       "      <th>5054</th>\n",
       "      <td>2021-22</td>\n",
       "      <td>TOT</td>\n",
       "      <td>/players/b/brownch05.html</td>\n",
       "      <td>6.4</td>\n",
       "    </tr>\n",
       "    <tr>\n",
       "      <th>5058</th>\n",
       "      <td>2021-22</td>\n",
       "      <td>TOT</td>\n",
       "      <td>/players/h/hillma01.html</td>\n",
       "      <td>12.7</td>\n",
       "    </tr>\n",
       "    <tr>\n",
       "      <th>5077</th>\n",
       "      <td>2021-22</td>\n",
       "      <td>TOT</td>\n",
       "      <td>/players/j/johnske07.html</td>\n",
       "      <td>8.7</td>\n",
       "    </tr>\n",
       "    <tr>\n",
       "      <th>5085</th>\n",
       "      <td>2021-22</td>\n",
       "      <td>TOT</td>\n",
       "      <td>/players/m/mccluma01.html</td>\n",
       "      <td>5.2</td>\n",
       "    </tr>\n",
       "  </tbody>\n",
       "</table>\n",
       "<p>556 rows × 4 columns</p>\n",
       "</div>"
      ],
      "text/plain": [
       "       season team_id                 player_dir   per\n",
       "7     2018-19     TOT  /players/b/barneha02.html  12.8\n",
       "15    2016-17     TOT  /players/b/bogutan01.html   9.3\n",
       "28    2015-16     TOT  /players/h/holidju01.html   9.4\n",
       "33    2018-19     TOT  /players/h/holidju01.html  10.0\n",
       "38    2021-22     TOT  /players/h/holidju01.html   9.5\n",
       "...       ...     ...                        ...   ...\n",
       "5036  2021-22     TOT    /players/k/keybr01.html  13.7\n",
       "5054  2021-22     TOT  /players/b/brownch05.html   6.4\n",
       "5058  2021-22     TOT   /players/h/hillma01.html  12.7\n",
       "5077  2021-22     TOT  /players/j/johnske07.html   8.7\n",
       "5085  2021-22     TOT  /players/m/mccluma01.html   5.2\n",
       "\n",
       "[556 rows x 4 columns]"
      ]
     },
     "execution_count": 93,
     "metadata": {},
     "output_type": "execute_result"
    }
   ],
   "source": [
    "#since we have individual team stats WE NEED TO FIGURE OUT WHO PLAYED WHERE AND WHEN \n",
    "multi_team_players = players_teams[players_teams['team_id']=='TOT'] \n",
    "multi_team_players"
   ]
  },
  {
   "cell_type": "code",
   "execution_count": null,
   "id": "245ad8a5-106a-44af-a0a1-3fed50a3b335",
   "metadata": {},
   "outputs": [],
   "source": [
    "# 2a. Write a function to get individual team pers and games palyers of team TOT \n",
    "\n",
    "# need to scrape from tathead .com using the players dir from player dir \n",
    "    # ex. /players/b/barneha02.html -> https://stathead.com/basketball/player-game-finder.cgi?player_id=barneha02\n",
    "    \n",
    "#then use updated per data to add dates players were on a team."
   ]
  },
  {
   "cell_type": "code",
   "execution_count": null,
   "id": "d4653fb6-bb9b-4601-89d8-92dce30e5d91",
   "metadata": {},
   "outputs": [],
   "source": []
  }
 ],
 "metadata": {
  "kernelspec": {
   "display_name": "Python 3 (ipykernel)",
   "language": "python",
   "name": "python3"
  },
  "language_info": {
   "codemirror_mode": {
    "name": "ipython",
    "version": 3
   },
   "file_extension": ".py",
   "mimetype": "text/x-python",
   "name": "python",
   "nbconvert_exporter": "python",
   "pygments_lexer": "ipython3",
   "version": "3.11.4"
  }
 },
 "nbformat": 4,
 "nbformat_minor": 5
}

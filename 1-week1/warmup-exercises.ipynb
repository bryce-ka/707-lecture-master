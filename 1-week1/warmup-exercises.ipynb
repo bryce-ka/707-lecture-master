{
 "cells": [
  {
   "cell_type": "markdown",
   "metadata": {},
   "source": [
    "# Exercises\n",
    "\n",
    "This weeks exercises are _optional_ depending on available time.\n",
    "\n",
    "1. Read the `2019_Yellow_Taxi_Trip_Data.csv` into Pandas. Create a `pairs plot` visualization of all non-categorical, non-date columns.  Color by `total_amount`."
   ]
  },
  {
   "cell_type": "code",
   "execution_count": null,
   "metadata": {},
   "outputs": [],
   "source": [
    "#Question 1 Answer"
   ]
  },
  {
   "cell_type": "markdown",
   "metadata": {},
   "source": [
    "2. Read the `titanic.csv` into Pandas.\n",
    "   a. Remove rows with missing values.\n",
    "   b. Using a single train / test split, create a decision tree classifier to predict \"survived\""
   ]
  },
  {
   "cell_type": "code",
   "execution_count": null,
   "metadata": {},
   "outputs": [],
   "source": [
    "#Question 2 Answer"
   ]
  },
  {
   "cell_type": "markdown",
   "metadata": {},
   "source": []
  }
 ],
 "metadata": {
  "kernelspec": {
   "display_name": ".venv",
   "language": "python",
   "name": "python3"
  },
  "language_info": {
   "name": "python",
   "version": "3.10.11"
  }
 },
 "nbformat": 4,
 "nbformat_minor": 2
}
